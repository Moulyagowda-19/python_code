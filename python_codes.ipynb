{
 "cells": [
  {
   "cell_type": "markdown",
   "id": "f258834e-f972-4580-866a-6697c6e315e0",
   "metadata": {},
   "source": [
    "# Password check"
   ]
  },
  {
   "cell_type": "code",
   "execution_count": 1,
   "id": "208bb2b1-d7a0-402c-9602-79153b8f1c6d",
   "metadata": {},
   "outputs": [],
   "source": [
    "def check_password(s, n):\n",
    "    if n <= 4:\n",
    "        return 0\n",
    "    \n",
    "    has_digit = False\n",
    "    has_upper = False\n",
    "    has_invalid_char = False\n",
    "    \n",
    "    for char in s:\n",
    "        if char.isdigit():\n",
    "            has_digit = True\n",
    "        elif char.isupper():\n",
    "            has_upper = True\n",
    "        elif char == ' ' or char == '/':\n",
    "            has_invalid_char = True\n",
    "    \n",
    "    if has_digit and has_upper and not has_invalid_char:\n",
    "        return 1\n",
    "    else:\n",
    "        return 0"
   ]
  },
  {
   "cell_type": "code",
   "execution_count": 2,
   "id": "dbbf1b37-d1ff-48ee-b4e8-d14784bd3db7",
   "metadata": {},
   "outputs": [
    {
     "name": "stdout",
     "output_type": "stream",
     "text": [
      "1\n",
      "0\n",
      "0\n"
     ]
    }
   ],
   "source": [
    "print(check_password(\"Password1\", len(\"Password1\")))  \n",
    "print(check_password(\"pass1\", len(\"pass1\")))          \n",
    "print(check_password(\"Pass1/word\", len(\"Pass1/word\"))) "
   ]
  },
  {
   "cell_type": "markdown",
   "id": "a8a8048c-1ee5-488d-a85e-912f84671fd7",
   "metadata": {},
   "source": [
    "# Queue Implementation"
   ]
  },
  {
   "cell_type": "code",
   "execution_count": 5,
   "id": "c5b9e9ea-59fd-4927-871f-9e6a32ccd596",
   "metadata": {},
   "outputs": [],
   "source": [
    "class Node:\n",
    "    def __init__(self, data):\n",
    "        self.data = data\n",
    "        self.next = None"
   ]
  },
  {
   "cell_type": "code",
   "execution_count": 16,
   "id": "fbc06a69-1959-4c94-9741-f507d3208352",
   "metadata": {},
   "outputs": [],
   "source": [
    "class Queue:\n",
    "    def __init__(self):\n",
    "        self.front = None\n",
    "        self.rear = None\n",
    "\n",
    "    def enqueue(self, data):\n",
    "        new_node = Node(data)\n",
    "        if self.rear is None:\n",
    "            self.front = self.rear = new_node\n",
    "        else:\n",
    "            self.rear.next = new_node\n",
    "            self.rear = new_node\n",
    "\n",
    "    def dequeue(self):\n",
    "        if self.front is None:\n",
    "            raise IndexError(\"Dequeue from an empty queue\")\n",
    "        data = self.front.data\n",
    "        self.front = self.front.next\n",
    "        if self.front is None:\n",
    "            self.rear = None\n",
    "        return data\n",
    "\n",
    "    def is_empty(self):\n",
    "        return self.front is None\n",
    "\n",
    "    "
   ]
  },
  {
   "cell_type": "code",
   "execution_count": 19,
   "id": "92c0238e-c2b5-4312-a133-11a67c6a239c",
   "metadata": {},
   "outputs": [
    {
     "data": {
      "text/plain": [
       "2"
      ]
     },
     "execution_count": 19,
     "metadata": {},
     "output_type": "execute_result"
    }
   ],
   "source": [
    "q = Queue()\n",
    "q.enqueue(1)\n",
    "q.enqueue(2)\n",
    "q.enqueue(3)\n",
    "q.dequeue()  \n",
    "q.dequeue()  "
   ]
  },
  {
   "cell_type": "code",
   "execution_count": 18,
   "id": "afb68e5c-6f3b-4506-80fc-dad8b4d5df23",
   "metadata": {},
   "outputs": [
    {
     "data": {
      "text/plain": [
       "False"
      ]
     },
     "execution_count": 18,
     "metadata": {},
     "output_type": "execute_result"
    }
   ],
   "source": [
    "queue.is_empty()  "
   ]
  },
  {
   "cell_type": "markdown",
   "id": "b8e30e4f-b173-4371-9b59-bb9639b963d1",
   "metadata": {},
   "source": [
    "# Reverse a Queue"
   ]
  },
  {
   "cell_type": "code",
   "execution_count": 20,
   "id": "067acdeb-a026-4a3e-b345-c57ed9c3d64a",
   "metadata": {},
   "outputs": [],
   "source": [
    "class Node:\n",
    "    def __init__(self, data):\n",
    "        self.data = data\n",
    "        self.next = None\n",
    "\n",
    "class Queue:\n",
    "    def __init__(self):\n",
    "        self.front = None\n",
    "        self.rear = None\n",
    "\n",
    "    def enqueue(self, data):\n",
    "        new_node = Node(data)\n",
    "        if self.rear is None:\n",
    "            self.front = self.rear = new_node\n",
    "        else:\n",
    "            self.rear.next = new_node\n",
    "            self.rear = new_node\n",
    "\n",
    "    def dequeue(self):\n",
    "        if self.front is None:\n",
    "            raise IndexError(\"Dequeue from an empty queue\")\n",
    "        data = self.front.data\n",
    "        self.front = self.front.next\n",
    "        if self.front is None:\n",
    "            self.rear = None\n",
    "        return data\n",
    "\n",
    "    def is_empty(self):\n",
    "        return self.front is None\n",
    "\n",
    "    def peek(self):\n",
    "        if self.front is None:\n",
    "            raise IndexError(\"Peek from an empty queue\")\n",
    "        return self.front.data\n",
    "\n",
    "    def __str__(self):\n",
    "        values = []\n",
    "        current = self.front\n",
    "        while current:\n",
    "            values.append(current.data)\n",
    "            current = current.next\n",
    "        return \" -> \".join(map(str, values))\n",
    "\n",
    "class Stack:\n",
    "    def __init__(self):\n",
    "        self.stack = []\n",
    "\n",
    "    def push(self, data):\n",
    "        self.stack.append(data)\n",
    "\n",
    "    def pop(self):\n",
    "        if not self.stack:\n",
    "            raise IndexError(\"Pop from an empty stack\")\n",
    "        return self.stack.pop()\n",
    "\n",
    "    def is_empty(self):\n",
    "        return len(self.stack) == 0\n",
    "        \n",
    "def reverse_queue(queue):\n",
    "    stack = Stack()    \n",
    "    while not queue.is_empty():\n",
    "        stack.push(queue.dequeue())    \n",
    "    while not stack.is_empty():\n",
    "        queue.enqueue(stack.pop())\n"
   ]
  },
  {
   "cell_type": "code",
   "execution_count": 23,
   "id": "50cdf7cc-66a5-4e7d-b8ed-8c62e69cce04",
   "metadata": {},
   "outputs": [],
   "source": [
    "queue = Queue()\n",
    "queue.enqueue(1)\n",
    "queue.enqueue(2)\n",
    "queue.enqueue(3)\n",
    "queue.enqueue(4)\n"
   ]
  },
  {
   "cell_type": "code",
   "execution_count": 27,
   "id": "29eb49a3-a847-40d7-99e8-36be83879ac8",
   "metadata": {},
   "outputs": [
    {
     "name": "stdout",
     "output_type": "stream",
     "text": [
      "1 -> 2 -> 3 -> 4\n"
     ]
    }
   ],
   "source": [
    "print(queue)  "
   ]
  },
  {
   "cell_type": "code",
   "execution_count": 28,
   "id": "abf126d5-467e-4ec6-83bf-9fadcaf16e5f",
   "metadata": {},
   "outputs": [],
   "source": [
    "reverse_queue(queue)"
   ]
  },
  {
   "cell_type": "code",
   "execution_count": 29,
   "id": "f7105737-0187-45f7-881a-72cdcc414e8c",
   "metadata": {},
   "outputs": [
    {
     "name": "stdout",
     "output_type": "stream",
     "text": [
      "4 -> 3 -> 2 -> 1\n"
     ]
    }
   ],
   "source": [
    "print(queue)"
   ]
  },
  {
   "cell_type": "code",
   "execution_count": null,
   "id": "dd85b908-2950-4975-862e-d3d40fe57400",
   "metadata": {},
   "outputs": [],
   "source": []
  }
 ],
 "metadata": {
  "kernelspec": {
   "display_name": "Python 3 (ipykernel)",
   "language": "python",
   "name": "python3"
  },
  "language_info": {
   "codemirror_mode": {
    "name": "ipython",
    "version": 3
   },
   "file_extension": ".py",
   "mimetype": "text/x-python",
   "name": "python",
   "nbconvert_exporter": "python",
   "pygments_lexer": "ipython3",
   "version": "3.11.7"
  }
 },
 "nbformat": 4,
 "nbformat_minor": 5
}
