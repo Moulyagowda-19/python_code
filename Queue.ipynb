{
 "cells": [
  {
   "cell_type": "markdown",
   "id": "d6d6f394-2390-44b7-b1a5-9472d6746a72",
   "metadata": {},
   "source": [
    "create a class called 'MyQueue' which can handle 1.Enqueue 2.Dequeue 3. is empty 4.display"
   ]
  },
  {
   "cell_type": "code",
   "execution_count": 1,
   "id": "84af7027-f0d7-4332-afc4-ef15f8c8447d",
   "metadata": {},
   "outputs": [],
   "source": [
    "class MyQueue :\n",
    "    def __init__ (self):\n",
    "        self.Queue = []\n",
    "    def enqueue(self,val):\n",
    "        self.Queue.append (val)\n",
    "    def dequeue(self):\n",
    "        if self.Queue:\n",
    "            self.Queue.pop(0)\n",
    "        else:\n",
    "            print('Queue is empty')\n",
    "    def is_empty(self):\n",
    "        return len(self.Queue) == 0\n",
    "    def display(self):\n",
    "        if self.Queue:\n",
    "            return self.Queue\n",
    "        else:\n",
    "            print('no Queue to display')\n",
    "    def size(self):\n",
    "        return len(self.Queue)"
   ]
  },
  {
   "cell_type": "code",
   "execution_count": 2,
   "id": "710b1ec4-d768-4d3f-b8d4-af89be3c21d3",
   "metadata": {},
   "outputs": [],
   "source": [
    "q = MyQueue()\n",
    "q.enqueue(70)\n",
    "q.enqueue(60)\n",
    "q.enqueue(50)"
   ]
  },
  {
   "cell_type": "code",
   "execution_count": 3,
   "id": "e748f60a-421b-4fd6-b898-d7dd24f50f1e",
   "metadata": {},
   "outputs": [],
   "source": [
    "q.dequeue()"
   ]
  },
  {
   "cell_type": "code",
   "execution_count": 4,
   "id": "f07bfb41-0dfc-4d60-839b-82a7b29b4f1a",
   "metadata": {},
   "outputs": [],
   "source": [
    "q.dequeue()"
   ]
  },
  {
   "cell_type": "code",
   "execution_count": 5,
   "id": "69fd3b5a-e36c-4396-9bb3-e21ba4a8b728",
   "metadata": {},
   "outputs": [],
   "source": [
    "q.dequeue()"
   ]
  },
  {
   "cell_type": "code",
   "execution_count": 6,
   "id": "53f93bdd-ed0c-452b-8ef3-008bd4f5b118",
   "metadata": {},
   "outputs": [
    {
     "name": "stdout",
     "output_type": "stream",
     "text": [
      "Queue is empty\n"
     ]
    }
   ],
   "source": [
    "q.dequeue()"
   ]
  },
  {
   "cell_type": "code",
   "execution_count": 7,
   "id": "84de7ff2-2c91-40dc-8bcd-b860725d7069",
   "metadata": {},
   "outputs": [
    {
     "name": "stdout",
     "output_type": "stream",
     "text": [
      "no Queue to display\n"
     ]
    }
   ],
   "source": [
    "q.display()"
   ]
  },
  {
   "cell_type": "code",
   "execution_count": 8,
   "id": "a8d25646-56b2-49b0-92fd-512fe0c2d159",
   "metadata": {},
   "outputs": [
    {
     "data": {
      "text/plain": [
       "0"
      ]
     },
     "execution_count": 8,
     "metadata": {},
     "output_type": "execute_result"
    }
   ],
   "source": [
    "q.size()"
   ]
  },
  {
   "cell_type": "code",
   "execution_count": null,
   "id": "9d262466-8cb5-4561-abb2-1094d3dd56b0",
   "metadata": {},
   "outputs": [],
   "source": []
  }
 ],
 "metadata": {
  "kernelspec": {
   "display_name": "Python 3 (ipykernel)",
   "language": "python",
   "name": "python3"
  },
  "language_info": {
   "codemirror_mode": {
    "name": "ipython",
    "version": 3
   },
   "file_extension": ".py",
   "mimetype": "text/x-python",
   "name": "python",
   "nbconvert_exporter": "python",
   "pygments_lexer": "ipython3",
   "version": "3.11.7"
  }
 },
 "nbformat": 4,
 "nbformat_minor": 5
}
