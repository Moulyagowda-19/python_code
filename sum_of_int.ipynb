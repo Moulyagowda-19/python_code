{
 "cells": [
  {
   "cell_type": "markdown",
   "id": "8ec3150f-4a25-4397-bd79-29272442b343",
   "metadata": {},
   "source": [
    "def difference[sum(n,m).The function accepts two integer n,m as arguements .find the sum of all numbers in range from 1 to m (both inclusive)that are not divisible by n.Return difference b/w sum of inetegers not divisible by n with sum of numbers divisible by\n",
    " \n",
    " --> n.input: n=4,=20 output:90(4+8+12+16+20=60) (1+2+3+5+6+7+9+10+11+13+14+15+17+18+19=150) (150-60=90)"
   ]
  },
  {
   "cell_type": "code",
   "execution_count": 1,
   "id": "6c5b3af2-857d-4380-a793-d84bed4ac4ad",
   "metadata": {},
   "outputs": [],
   "source": [
    "def dif(n,m):\n",
    "    divi = 0\n",
    "    ndivi = 0\n",
    "    for i in range(1,m+1):\n",
    "        if i % 4 == 0:\n",
    "            divi = divi+i\n",
    "        else:\n",
    "            ndivi = ndivi+i\n",
    "    if ndivi > divi:\n",
    "        print(ndivi - divi)\n",
    "    else:\n",
    "        print(divi - ndivi)"
   ]
  },
  {
   "cell_type": "code",
   "execution_count": 2,
   "id": "abd5046c-3d21-4e56-8ea2-369fe76604d9",
   "metadata": {},
   "outputs": [
    {
     "name": "stdout",
     "output_type": "stream",
     "text": [
      "507\n"
     ]
    }
   ],
   "source": [
    " dif(30,45)"
   ]
  },
  {
   "cell_type": "code",
   "execution_count": null,
   "id": "4c3d5133-09ed-4e3f-88d2-65da357d63e4",
   "metadata": {},
   "outputs": [],
   "source": []
  }
 ],
 "metadata": {
  "kernelspec": {
   "display_name": "Python 3 (ipykernel)",
   "language": "python",
   "name": "python3"
  },
  "language_info": {
   "codemirror_mode": {
    "name": "ipython",
    "version": 3
   },
   "file_extension": ".py",
   "mimetype": "text/x-python",
   "name": "python",
   "nbconvert_exporter": "python",
   "pygments_lexer": "ipython3",
   "version": "3.11.7"
  }
 },
 "nbformat": 4,
 "nbformat_minor": 5
}
