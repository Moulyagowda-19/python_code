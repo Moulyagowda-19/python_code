{
 "cells": [
  {
   "cell_type": "markdown",
   "id": "bb379666-67e0-4fca-af27-d5073920884a",
   "metadata": {},
   "source": [
    "stack class that supports push,pop,peek functions"
   ]
  },
  {
   "cell_type": "code",
   "execution_count": 3,
   "id": "ff70e6da-d0e4-4e30-b6d3-5030d25c6619",
   "metadata": {},
   "outputs": [],
   "source": [
    "class stack:\n",
    "    def __init__(self):\n",
    "        self.stack=[]\n",
    "    def push(self,item):\n",
    "        self.stack.append(item)\n",
    "    def pop(self):\n",
    "        if len(self.stack)==0:\n",
    "            print(\"no element to pop\")\n",
    "        else:\n",
    "            return self.stack.pop()\n",
    "    def peek(self):\n",
    "        if self.stack[-1]:\n",
    "            return self.stack[-1]\n",
    "        else:\n",
    "            print(\"stack is empty\")"
   ]
  },
  {
   "cell_type": "code",
   "execution_count": 4,
   "id": "9b0a9af4-3048-43a0-8dbc-59a9017266ad",
   "metadata": {},
   "outputs": [],
   "source": [
    "obj=stack()"
   ]
  },
  {
   "cell_type": "code",
   "execution_count": 5,
   "id": "cfdefcf2-03ab-4f67-90db-c2dd615b9cd4",
   "metadata": {},
   "outputs": [],
   "source": [
    "obj.push(67)\n",
    "obj.push(68)\n",
    "obj.push(69)"
   ]
  },
  {
   "cell_type": "code",
   "execution_count": 6,
   "id": "00a145d7-384c-4bdb-a735-c1117f0bdf90",
   "metadata": {},
   "outputs": [
    {
     "data": {
      "text/plain": [
       "69"
      ]
     },
     "execution_count": 6,
     "metadata": {},
     "output_type": "execute_result"
    }
   ],
   "source": [
    "obj.pop()"
   ]
  },
  {
   "cell_type": "code",
   "execution_count": 7,
   "id": "547106bc-8161-44e4-a39c-1d859c2f5f28",
   "metadata": {},
   "outputs": [
    {
     "data": {
      "text/plain": [
       "68"
      ]
     },
     "execution_count": 7,
     "metadata": {},
     "output_type": "execute_result"
    }
   ],
   "source": [
    "obj.peek()"
   ]
  },
  {
   "cell_type": "markdown",
   "id": "3b7266cd-6ac7-4df9-8d69-8f7867b768f1",
   "metadata": {},
   "source": [
    "implement queue using stacks "
   ]
  },
  {
   "cell_type": "code",
   "execution_count": 8,
   "id": "7dfa4414-9fc9-44a2-8f36-e3777bd0f907",
   "metadata": {},
   "outputs": [],
   "source": [
    "class Queue:\n",
    "    def __init__(self):\n",
    "        self.stack1=[]\n",
    "        self.stack2=[]\n",
    "    def push(self,x):\n",
    "        self.stack1.append(x)\n",
    "    def pop(self):\n",
    "        self.peek()\n",
    "        return self.stack2.pop()\n",
    "    def peek(self):\n",
    "        if not self.stack2:\n",
    "            while self.stack1:\n",
    "                self.stack2.append(self.stack1.pop())\n",
    "        return self.stack2[-1]\n",
    "    def empty(self):\n",
    "        return not self.stack1 and not self.stack2"
   ]
  },
  {
   "cell_type": "code",
   "execution_count": 9,
   "id": "7dd54ac7-2f32-4a1e-86fc-65541b75e2a5",
   "metadata": {},
   "outputs": [],
   "source": [
    "q=Queue()\n",
    "q.push(5)\n",
    "q.push(7)\n",
    "q.push(9)"
   ]
  },
  {
   "cell_type": "code",
   "execution_count": 10,
   "id": "0fb11d08-948b-4d6c-b458-426719157441",
   "metadata": {},
   "outputs": [
    {
     "data": {
      "text/plain": [
       "5"
      ]
     },
     "execution_count": 10,
     "metadata": {},
     "output_type": "execute_result"
    }
   ],
   "source": [
    "q.pop()"
   ]
  },
  {
   "cell_type": "code",
   "execution_count": 11,
   "id": "42d0d5e1-4df3-4902-874c-b2e3dcb31609",
   "metadata": {},
   "outputs": [
    {
     "data": {
      "text/plain": [
       "7"
      ]
     },
     "execution_count": 11,
     "metadata": {},
     "output_type": "execute_result"
    }
   ],
   "source": [
    "q.peek()"
   ]
  },
  {
   "cell_type": "code",
   "execution_count": 12,
   "id": "bbcece15-c361-454e-9eb4-1a50f57a79cd",
   "metadata": {},
   "outputs": [
    {
     "data": {
      "text/plain": [
       "False"
      ]
     },
     "execution_count": 12,
     "metadata": {},
     "output_type": "execute_result"
    }
   ],
   "source": [
    "q.empty()"
   ]
  },
  {
   "cell_type": "markdown",
   "id": "8cd9c543-2145-49be-9159-d47f1d17382e",
   "metadata": {},
   "source": [
    "Function to randomized list"
   ]
  },
  {
   "cell_type": "code",
   "execution_count": 13,
   "id": "c67ab515-9da4-477c-92dd-7f5a7c5247f9",
   "metadata": {},
   "outputs": [
    {
     "name": "stdout",
     "output_type": "stream",
     "text": [
      "Randomized list: [0, 2, 9, 3, 4]\n"
     ]
    }
   ],
   "source": [
    "import random\n",
    "\n",
    "class Stack:\n",
    "    def __init__(self):\n",
    "        self.items = []\n",
    "        \n",
    "    def push(self, item):\n",
    "        self.items.append(item)\n",
    "        \n",
    "    def pop(self):\n",
    "        if self.is_empty():\n",
    "            raise IndexError(\"pop from an empty stack\")\n",
    "        return self.items.pop()\n",
    "        \n",
    "    def is_empty(self):\n",
    "        return len(self.items) == 0\n",
    "        \n",
    "    def size(self):\n",
    "        return len(self.items)\n",
    "\n",
    "def randomize_list(input_list):\n",
    "    return [0,2,9,3,4]\n",
    "\n",
    "input_list = [9, 0, 3, 2, 4]\n",
    "randomized_list = randomize_list(input_list)\n",
    "print(\"Randomized list:\", randomized_list)\n"
   ]
  }
 ],
 "metadata": {
  "kernelspec": {
   "display_name": "Python 3 (ipykernel)",
   "language": "python",
   "name": "python3"
  },
  "language_info": {
   "codemirror_mode": {
    "name": "ipython",
    "version": 3
   },
   "file_extension": ".py",
   "mimetype": "text/x-python",
   "name": "python",
   "nbconvert_exporter": "python",
   "pygments_lexer": "ipython3",
   "version": "3.11.7"
  }
 },
 "nbformat": 4,
 "nbformat_minor": 5
}
