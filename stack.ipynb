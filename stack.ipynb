{
 "cells": [
  {
   "cell_type": "markdown",
   "id": "7cafc7d4-5bf2-48d4-9fc0-2a4bd37ea68e",
   "metadata": {},
   "source": [
    "stack implementation using list"
   ]
  },
  {
   "cell_type": "code",
   "execution_count": 1,
   "id": "19d32dbd-41a2-41b9-a74f-2c27f198c407",
   "metadata": {},
   "outputs": [],
   "source": [
    "class stack:\n",
    "    def __init__ (self):\n",
    "        self.stack=[]\n",
    "    def push(self,item):\n",
    "        self.stack.append(item)\n",
    "    def pop(self):\n",
    "        return self.stack.pop()\n",
    "    def peek(self):\n",
    "        if self.stack:\n",
    "            return self.stack[-1]\n",
    "        else:\n",
    "            'stack is empty'\n",
    "    def is_empty(self):\n",
    "        return len(self.stack)==0\n",
    "    def size(self):\n",
    "        return len(self.stack)\n"
   ]
  },
  {
   "cell_type": "code",
   "execution_count": 2,
   "id": "660a2392-8660-4cb0-9279-cf448fe896a0",
   "metadata": {},
   "outputs": [
    {
     "data": {
      "text/plain": [
       "1"
      ]
     },
     "execution_count": 2,
     "metadata": {},
     "output_type": "execute_result"
    }
   ],
   "source": [
    "s=stack()\n",
    "s.push(44)\n",
    "s.push(45)\n",
    "s.pop()\n",
    "s.peek()\n",
    "s.is_empty()\n",
    "s.size()"
   ]
  },
  {
   "cell_type": "code",
   "execution_count": 3,
   "id": "bfbd0cfa-2e16-4698-bcec-629de7fd9ded",
   "metadata": {},
   "outputs": [],
   "source": [
    "a='happy'"
   ]
  },
  {
   "cell_type": "code",
   "execution_count": 4,
   "id": "b6c9b95e-1d89-4a31-adc9-a1b2da32f23b",
   "metadata": {},
   "outputs": [
    {
     "data": {
      "text/plain": [
       "'h'"
      ]
     },
     "execution_count": 4,
     "metadata": {},
     "output_type": "execute_result"
    }
   ],
   "source": [
    "a[0]"
   ]
  },
  {
   "cell_type": "code",
   "execution_count": 5,
   "id": "f03e9949-7747-4c79-baa5-23267d62a123",
   "metadata": {},
   "outputs": [],
   "source": [
    "a='happy'"
   ]
  },
  {
   "cell_type": "code",
   "execution_count": 6,
   "id": "00b43446-9f9a-48bc-bfa5-9fd23cc642b0",
   "metadata": {},
   "outputs": [],
   "source": [
    "b='sad'"
   ]
  },
  {
   "cell_type": "code",
   "execution_count": 7,
   "id": "5d1f5f30-3222-4599-9333-aa575f01ed09",
   "metadata": {},
   "outputs": [],
   "source": [
    "c=a+b"
   ]
  },
  {
   "cell_type": "code",
   "execution_count": 8,
   "id": "0387320f-d533-4b61-8831-d8123a82cf97",
   "metadata": {},
   "outputs": [
    {
     "data": {
      "text/plain": [
       "'happysad'"
      ]
     },
     "execution_count": 8,
     "metadata": {},
     "output_type": "execute_result"
    }
   ],
   "source": [
    "c"
   ]
  },
  {
   "cell_type": "code",
   "execution_count": 11,
   "id": "65546d5f-c093-4a80-a9f4-471032fe9a15",
   "metadata": {},
   "outputs": [],
   "source": [
    "s=''"
   ]
  },
  {
   "cell_type": "code",
   "execution_count": null,
   "id": "f5d6045d-576e-4447-b85d-250f0246d8e1",
   "metadata": {},
   "outputs": [],
   "source": [
    "def happy"
   ]
  }
 ],
 "metadata": {
  "kernelspec": {
   "display_name": "Python 3 (ipykernel)",
   "language": "python",
   "name": "python3"
  },
  "language_info": {
   "codemirror_mode": {
    "name": "ipython",
    "version": 3
   },
   "file_extension": ".py",
   "mimetype": "text/x-python",
   "name": "python",
   "nbconvert_exporter": "python",
   "pygments_lexer": "ipython3",
   "version": "3.11.7"
  }
 },
 "nbformat": 4,
 "nbformat_minor": 5
}
